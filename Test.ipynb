{
 "cells": [
  {
   "cell_type": "code",
   "execution_count": 5,
   "metadata": {
    "collapsed": true,
    "jupyter": {
     "outputs_hidden": true,
     "source_hidden": true
    }
   },
   "outputs": [
    {
     "name": "stdout",
     "output_type": "stream",
     "text": [
      "Requirement already satisfied: paramiko in /Users/ejetzer/opt/anaconda3/lib/python3.8/site-packages (2.7.2)\n",
      "Requirement already satisfied: databases in /Users/ejetzer/opt/anaconda3/lib/python3.8/site-packages (0.4.1)\n",
      "Requirement already satisfied: cryptography>=2.5 in /Users/ejetzer/opt/anaconda3/lib/python3.8/site-packages (from paramiko) (3.2.1)\n",
      "Requirement already satisfied: bcrypt>=3.1.3 in /Users/ejetzer/opt/anaconda3/lib/python3.8/site-packages (from paramiko) (3.2.0)\n",
      "Requirement already satisfied: pynacl>=1.0.1 in /Users/ejetzer/opt/anaconda3/lib/python3.8/site-packages (from paramiko) (1.4.0)\n",
      "Requirement already satisfied: sqlalchemy in /Users/ejetzer/opt/anaconda3/lib/python3.8/site-packages (from databases) (1.3.20)\n",
      "Requirement already satisfied: cffi!=1.11.3,>=1.8 in /Users/ejetzer/opt/anaconda3/lib/python3.8/site-packages (from cryptography>=2.5->paramiko) (1.14.3)\n",
      "Requirement already satisfied: six>=1.4.1 in /Users/ejetzer/opt/anaconda3/lib/python3.8/site-packages (from cryptography>=2.5->paramiko) (1.15.0)\n",
      "Requirement already satisfied: pycparser in /Users/ejetzer/opt/anaconda3/lib/python3.8/site-packages (from cffi!=1.11.3,>=1.8->cryptography>=2.5->paramiko) (2.20)\n",
      "Note: you may need to restart the kernel to use updated packages.\n"
     ]
    }
   ],
   "source": [
    "%pip install paramiko databases"
   ]
  },
  {
   "cell_type": "code",
   "execution_count": 69,
   "metadata": {},
   "outputs": [],
   "source": [
    "import paramiko\n",
    "import databases\n",
    "import time"
   ]
  },
  {
   "cell_type": "code",
   "execution_count": 70,
   "metadata": {},
   "outputs": [],
   "source": [
    "client = paramiko.SSHClient()\n",
    "client.load_system_host_keys()"
   ]
  },
  {
   "cell_type": "code",
   "execution_count": 71,
   "metadata": {},
   "outputs": [],
   "source": [
    "webfaction = 'ejetzer.ca'"
   ]
  },
  {
   "cell_type": "code",
   "execution_count": 72,
   "metadata": {},
   "outputs": [
    {
     "name": "stdout",
     "output_type": "stream",
     "text": [
      "total 1580\n",
      "drwxr-xr-x 3 ejetzer ejetzer    4096 Nov 20 13:10 bin\n",
      "drwxr-xr-x 2 ejetzer ejetzer    4096 Nov 17 12:20 certificates\n",
      "-rw-rw-r-- 1 ejetzer ejetzer 1595408 Nov  6  2016 get-pip.py\n",
      "drwxr-xr-x 8 ejetzer ejetzer    4096 Nov 20 11:51 lib\n",
      "drwxr-xr-x 4 ejetzer ejetzer    4096 Aug 31  2017 logs\n",
      "drwx--x--x 5 ejetzer ejetzer    4096 Nov 20 13:10 webapps\n",
      "\n",
      "\n"
     ]
    }
   ],
   "source": [
    "# Première instruction\n",
    "client.connect(webfaction)\n",
    "\n",
    "stdin, stdout, stderr = client.exec_command('ls -l')\n",
    "\n",
    "print(str(stdout.read(), encoding='utf-8'))\n",
    "print(str(stderr.read(), encoding='utf-8'))\n",
    "\n",
    "client.close()"
   ]
  },
  {
   "cell_type": "code",
   "execution_count": 84,
   "metadata": {},
   "outputs": [
    {
     "name": "stdout",
     "output_type": "stream",
     "text": [
      "Last login: Fri Nov 20 15:26:56 2020 from 74.59.25.74\n",
      "[ejetzer@wf-207-38-94-215 ~]$ cd webapps/heures\n",
      "[ejetzer@wf-207-38-94-215 heures]$ pwd\n",
      "/home/ejetzer/webapps/heures\n",
      "[ejetzer@wf-207-38-94-215 heures]$ mysql < mysql_test.txt > mysql.out\n",
      "[ejetzer@wf-207-38-94-215 heures]$ cat mysql.out\n",
      "version()\tnow()\tuser()\n",
      "5.6.48-88.0\t2020-11-20 15:27:50\tejetzer@localhost\n",
      "[ejetzer@wf-207-38-94-215 heures]$ exit"
     ]
    }
   ],
   "source": [
    "# Première instruction\n",
    "client.connect(webfaction)\n",
    "\n",
    "def attendre(canal: paramiko.channel.Channel, attente: float = 1):\n",
    "    while not canal.recv_ready():\n",
    "        time.sleep(attente)\n",
    "    \n",
    "    sortie = b''\n",
    "    while canal.recv_ready():\n",
    "        sortie += canal.recv(1024)\n",
    "    \n",
    "    while not canal.send_ready():\n",
    "        time.sleep(attente)\n",
    "    \n",
    "    return str(sortie, encoding='utf-8')\n",
    "\n",
    "def exécuter(commande: str, canal: paramiko.channel.Channel, attente: float = 1, saut_de_ligne_inclus=False):\n",
    "    if not saut_de_ligne_inclus:\n",
    "        commande += '\\n'\n",
    "    canal.send(commande)\n",
    "    return attendre(canal, attente)\n",
    "\n",
    "with client.invoke_shell() as canal,\\\n",
    "     open('programme_paramiko.zsh') as instructions:\n",
    "    print(attendre(canal), end='')\n",
    "    for instruction in instructions:\n",
    "        print(exécuter(instruction, canal, saut_de_ligne_inclus=True), end='')\n",
    "    \n",
    "client.close()"
   ]
  },
  {
   "cell_type": "code",
   "execution_count": 1,
   "metadata": {},
   "outputs": [],
   "source": [
    "import argparse"
   ]
  },
  {
   "cell_type": "code",
   "execution_count": null,
   "metadata": {},
   "outputs": [],
   "source": []
  }
 ],
 "metadata": {
  "kernelspec": {
   "display_name": "Python 3",
   "language": "python",
   "name": "python3"
  },
  "language_info": {
   "codemirror_mode": {
    "name": "ipython",
    "version": 3
   },
   "file_extension": ".py",
   "mimetype": "text/x-python",
   "name": "python",
   "nbconvert_exporter": "python",
   "pygments_lexer": "ipython3",
   "version": "3.8.5"
  }
 },
 "nbformat": 4,
 "nbformat_minor": 4
}
