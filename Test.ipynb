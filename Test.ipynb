{
 "cells": [
  {
   "cell_type": "code",
   "execution_count": 5,
   "metadata": {
    "collapsed": true,
    "jupyter": {
     "outputs_hidden": true,
     "source_hidden": true
    }
   },
   "outputs": [
    {
     "name": "stdout",
     "output_type": "stream",
     "text": [
      "Requirement already satisfied: paramiko in /Users/ejetzer/opt/anaconda3/lib/python3.8/site-packages (2.7.2)\n",
      "Requirement already satisfied: databases in /Users/ejetzer/opt/anaconda3/lib/python3.8/site-packages (0.4.1)\n",
      "Requirement already satisfied: cryptography>=2.5 in /Users/ejetzer/opt/anaconda3/lib/python3.8/site-packages (from paramiko) (3.2.1)\n",
      "Requirement already satisfied: bcrypt>=3.1.3 in /Users/ejetzer/opt/anaconda3/lib/python3.8/site-packages (from paramiko) (3.2.0)\n",
      "Requirement already satisfied: pynacl>=1.0.1 in /Users/ejetzer/opt/anaconda3/lib/python3.8/site-packages (from paramiko) (1.4.0)\n",
      "Requirement already satisfied: sqlalchemy in /Users/ejetzer/opt/anaconda3/lib/python3.8/site-packages (from databases) (1.3.20)\n",
      "Requirement already satisfied: cffi!=1.11.3,>=1.8 in /Users/ejetzer/opt/anaconda3/lib/python3.8/site-packages (from cryptography>=2.5->paramiko) (1.14.3)\n",
      "Requirement already satisfied: six>=1.4.1 in /Users/ejetzer/opt/anaconda3/lib/python3.8/site-packages (from cryptography>=2.5->paramiko) (1.15.0)\n",
      "Requirement already satisfied: pycparser in /Users/ejetzer/opt/anaconda3/lib/python3.8/site-packages (from cffi!=1.11.3,>=1.8->cryptography>=2.5->paramiko) (2.20)\n",
      "Note: you may need to restart the kernel to use updated packages.\n"
     ]
    }
   ],
   "source": [
    "%pip install paramiko databases"
   ]
  },
  {
   "cell_type": "code",
   "execution_count": 23,
   "metadata": {},
   "outputs": [],
   "source": [
    "import paramiko\n",
    "import databases"
   ]
  },
  {
   "cell_type": "code",
   "execution_count": 30,
   "metadata": {},
   "outputs": [],
   "source": [
    "client = paramiko.SSHClient()\n",
    "client.load_system_host_keys()"
   ]
  },
  {
   "cell_type": "code",
   "execution_count": 31,
   "metadata": {},
   "outputs": [],
   "source": [
    "webfaction = 'ejetzer.ca'"
   ]
  },
  {
   "cell_type": "code",
   "execution_count": 34,
   "metadata": {},
   "outputs": [
    {
     "name": "stdout",
     "output_type": "stream",
     "text": [
      "total 1580\n",
      "drwxr-xr-x 3 ejetzer ejetzer    4096 Nov 20 13:10 bin\n",
      "drwxr-xr-x 2 ejetzer ejetzer    4096 Nov 17 12:20 certificates\n",
      "-rw-rw-r-- 1 ejetzer ejetzer 1595408 Nov  6  2016 get-pip.py\n",
      "drwxr-xr-x 8 ejetzer ejetzer    4096 Nov 20 11:51 lib\n",
      "drwxr-xr-x 4 ejetzer ejetzer    4096 Aug 31  2017 logs\n",
      "drwx--x--x 5 ejetzer ejetzer    4096 Nov 20 13:10 webapps\n",
      "\n"
     ]
    }
   ],
   "source": [
    "# Première instruction\n",
    "client.connect(webfaction)\n",
    "\n",
    "stdin, stdout, stderr = client.exec_command('ls -l')\n",
    "\n",
    "print(str(stdout.read(), encoding='utf-8'))\n",
    "\n",
    "client.close()"
   ]
  }
 ],
 "metadata": {
  "kernelspec": {
   "display_name": "Python 3",
   "language": "python",
   "name": "python3"
  },
  "language_info": {
   "codemirror_mode": {
    "name": "ipython",
    "version": 3
   },
   "file_extension": ".py",
   "mimetype": "text/x-python",
   "name": "python",
   "nbconvert_exporter": "python",
   "pygments_lexer": "ipython3",
   "version": "3.8.5"
  }
 },
 "nbformat": 4,
 "nbformat_minor": 4
}
