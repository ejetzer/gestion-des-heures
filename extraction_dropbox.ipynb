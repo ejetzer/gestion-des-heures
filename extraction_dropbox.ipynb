{
 "cells": [
  {
   "cell_type": "markdown",
   "metadata": {},
   "source": [
    "# Extraction des heures à partir des fichiers textes dans Dropbox\n",
    "\n",
    "Mon script de suivi des heures entre les nouvelles entrées comme des fichiers textes sur Dropbox. Je veux les synthétiser en un seul tableur, avec les informations pertinentes, pour faciliter l'entrée dans la feuille de temps ensuite."
   ]
  },
  {
   "cell_type": "code",
   "execution_count": 3,
   "metadata": {
    "collapsed": true,
    "jupyter": {
     "outputs_hidden": true
    }
   },
   "outputs": [
    {
     "name": "stdout",
     "output_type": "stream",
     "text": [
      "Collecting pandas\n",
      "  Downloading pandas-1.2.3-cp39-cp39-macosx_10_9_x86_64.whl (10.7 MB)\n",
      "\u001b[K     |████████████████████████████████| 10.7 MB 732 kB/s eta 0:00:01\n",
      "\u001b[?25hRequirement already satisfied: pytz>=2017.3 in /Library/Frameworks/Python.framework/Versions/3.9/lib/python3.9/site-packages (from pandas) (2021.1)\n",
      "Requirement already satisfied: numpy>=1.16.5 in /Library/Frameworks/Python.framework/Versions/3.9/lib/python3.9/site-packages (from pandas) (1.20.2)\n",
      "Requirement already satisfied: python-dateutil>=2.7.3 in /Library/Frameworks/Python.framework/Versions/3.9/lib/python3.9/site-packages (from pandas) (2.8.1)\n",
      "Requirement already satisfied: six>=1.5 in /Library/Frameworks/Python.framework/Versions/3.9/lib/python3.9/site-packages (from python-dateutil>=2.7.3->pandas) (1.15.0)\n",
      "Installing collected packages: pandas\n",
      "Successfully installed pandas-1.2.3\n",
      "Note: you may need to restart the kernel to use updated packages.\n"
     ]
    }
   ],
   "source": [
    "%pip install pandas"
   ]
  },
  {
   "cell_type": "code",
   "execution_count": 4,
   "metadata": {},
   "outputs": [],
   "source": [
    "import pandas as pd\n",
    "from pathlib import Path"
   ]
  },
  {
   "cell_type": "markdown",
   "metadata": {},
   "source": [
    "Les fichiers sont stockés dans un sous-dossier Dropbox quand tout va bien, et parfois par erreur dans le dossier racine. On pourra s'occuper des fichiers dans le sous-dossier pour commencer."
   ]
  },
  {
   "cell_type": "code",
   "execution_count": 2,
   "metadata": {},
   "outputs": [],
   "source": [
    "racine = Path.home() / 'Dropbox/'\n",
    "boite_de_dépôt = racine / 'Boite de dépôt'\n",
    "\n",
    "fichiers_correctement_déposés = list(boite_de_dépôt.glob('*.txt'))\n",
    "fichiers_incorrectement_déposés = list(racine.glob('*.txt'))"
   ]
  },
  {
   "cell_type": "code",
   "execution_count": 16,
   "metadata": {},
   "outputs": [],
   "source": [
    "racine = Path.home() / 'Library' / 'Mobile Documents' / 'iCloud~is~workflow~my~workflows' / 'Documents'\n",
    "boite_de_dépôt = racine / 'Journal de bord/' \n",
    "\n",
    "fichiers_correctement_déposés = [f for f in boite_de_dépôt.glob('*.txt') if 'complétée' in str(f)]\n",
    "#fichiers_incorrectement_déposés = list(racine.glob('*.txt'))"
   ]
  },
  {
   "cell_type": "markdown",
   "metadata": {},
   "source": [
    "Un fichier typique ressemble à ceci:"
   ]
  },
  {
   "cell_type": "code",
   "execution_count": 17,
   "metadata": {},
   "outputs": [
    {
     "name": "stdout",
     "output_type": "stream",
     "text": [
      "/Users/emilejetzer/Library/Mobile Documents/iCloud~is~workflow~my~workflows/Documents/Journal de bord/2021-03-30T09_41_49-04_00 Tâche complétée.txt\n",
      "Temps (min): 30\n",
      "Nbr d'heures : 0,5\n",
      "Payeur: Daq pour projet 2\n",
      "Demandeur: \n",
      "Description des travaux effectués: \"\"\n",
      "Atelier: 0\n",
      "Début: 30 mars 2021 09:11\n",
      "Fin: 30 mars 2021 09:41\n",
      "Lieu: H3T 0A1\n"
     ]
    }
   ],
   "source": [
    "with fichiers_correctement_déposés[0].open() as f:\n",
    "    print(str(fichiers_correctement_déposés[0]))\n",
    "    print(f.read())"
   ]
  },
  {
   "cell_type": "markdown",
   "metadata": {},
   "source": [
    "On peut les lire ligne par ligne pour produire une liste:"
   ]
  },
  {
   "cell_type": "code",
   "execution_count": 4,
   "metadata": {},
   "outputs": [
    {
     "name": "stdout",
     "output_type": "stream",
     "text": [
      "[5.0, 'Test de l’ajout de photos', False]\n"
     ]
    }
   ],
   "source": [
    "with fichiers_correctement_déposés[0].open() as f:\n",
    "    nouvelle_entrée = [0, '', False]\n",
    "    \n",
    "    for ligne in f.readlines():\n",
    "        champ, valeur = ligne.strip().split(':', 1)\n",
    "        if champ.startswith('Temps'):\n",
    "            # Certains fichiers ont le temps en heures, d'autres en minutes\n",
    "            champ = champ.strip(')').split()\n",
    "            if len(champ) > 1:\n",
    "                unité = champ[1].strip('(')\n",
    "            else:\n",
    "                unité = 'min'\n",
    "            \n",
    "            valeur = float(valeur.strip())\n",
    "            if unité == 'h':\n",
    "                valeur *= 60\n",
    "            \n",
    "            nouvelle_entrée[0] = valeur\n",
    "        elif champ.startswith('Tâche'):\n",
    "            valeur = valeur.strip(' \"')\n",
    "            nouvelle_entrée[1] = valeur\n",
    "        elif champ.startswith('Atelier'):\n",
    "            nouvelle_entrée[2] = '1' in valeur\n",
    "\n",
    "print(nouvelle_entrée)"
   ]
  },
  {
   "cell_type": "markdown",
   "metadata": {},
   "source": [
    "On utilise la date & heure de création du fichier (heureusement préservée par Dropbox) pour obtenir le moment d'entrée."
   ]
  },
  {
   "cell_type": "code",
   "execution_count": 20,
   "metadata": {},
   "outputs": [],
   "source": [
    "étampe = fichiers_correctement_déposés[0].stat().st_birthtime"
   ]
  },
  {
   "cell_type": "code",
   "execution_count": 21,
   "metadata": {},
   "outputs": [
    {
     "data": {
      "text/plain": [
       "datetime.datetime(2021, 3, 30, 9, 42, 2)"
      ]
     },
     "execution_count": 21,
     "metadata": {},
     "output_type": "execute_result"
    }
   ],
   "source": [
    "from datetime import datetime as Dt\n",
    "Dt.fromtimestamp(étampe)"
   ]
  },
  {
   "cell_type": "markdown",
   "metadata": {},
   "source": [
    "On peut l'ajouter à la liste:"
   ]
  },
  {
   "cell_type": "code",
   "execution_count": 7,
   "metadata": {},
   "outputs": [
    {
     "name": "stdout",
     "output_type": "stream",
     "text": [
      "[datetime.datetime(2021, 1, 28, 13, 22, 45), 5.0, 'Test de l’ajout de photos', False]\n"
     ]
    }
   ],
   "source": [
    "with fichiers_correctement_déposés[0].open() as f:\n",
    "    nouvelle_entrée = [None, 0, '', False]\n",
    "    \n",
    "    étampe = Dt.fromtimestamp(fichiers_correctement_déposés[0].stat().st_birthtime)\n",
    "    nouvelle_entrée[0] = étampe\n",
    "    \n",
    "    for ligne in f.readlines():\n",
    "        champ, valeur = ligne.strip().split(':', 1)\n",
    "        if champ.startswith('Temps'):\n",
    "            # Certains fichiers ont le temps en heures, d'autres en minutes\n",
    "            champ = champ.strip(')').split()\n",
    "            if len(champ) > 1:\n",
    "                unité = champ[1].strip('(')\n",
    "            else:\n",
    "                unité = 'min'\n",
    "            \n",
    "            valeur = float(valeur.strip())\n",
    "            if unité == 'h':\n",
    "                valeur *= 60\n",
    "            \n",
    "            nouvelle_entrée[1] = valeur\n",
    "        elif champ.startswith('Tâche'):\n",
    "            valeur = valeur.strip(' \"')\n",
    "            nouvelle_entrée[2] = valeur\n",
    "        elif champ.startswith('Atelier'):\n",
    "            nouvelle_entrée[3] = '1' in valeur\n",
    "\n",
    "print(nouvelle_entrée)"
   ]
  },
  {
   "cell_type": "markdown",
   "metadata": {},
   "source": [
    "Pour que ce soit vraiment utile, il faut passer à travers toute la liste de fichiers, et garder chaque entrée dans une liste."
   ]
  },
  {
   "cell_type": "code",
   "execution_count": 22,
   "metadata": {},
   "outputs": [],
   "source": [
    "entrées = []\n",
    "\n",
    "for chemin in fichiers_correctement_déposés:\n",
    "    nouvelle_entrée = [None, 0, '', False]\n",
    "    \n",
    "    with chemin.open() as f:\n",
    "        étampe = Dt.fromtimestamp(chemin.stat().st_birthtime)\n",
    "        nouvelle_entrée[0] = étampe\n",
    "\n",
    "        for ligne in f.readlines():\n",
    "            champ, valeur = ligne.strip().split(':', 1)\n",
    "            if champ.startswith('Temps'):\n",
    "                # Certains fichiers ont le temps en heures, d'autres en minutes\n",
    "                champ = champ.strip(')').split()\n",
    "                if len(champ) > 1:\n",
    "                    unité = champ[1].strip('(')\n",
    "                else:\n",
    "                    unité = 'min'\n",
    "\n",
    "                valeur = float(valeur.replace(',', '.').strip())\n",
    "                if unité == 'h':\n",
    "                    valeur *= 60\n",
    "\n",
    "                nouvelle_entrée[1] = valeur\n",
    "            elif champ.startswith('Tâche'):\n",
    "                valeur = valeur.strip(' \"')\n",
    "                nouvelle_entrée[2] = valeur\n",
    "            elif champ.startswith('Atelier'):\n",
    "                nouvelle_entrée[3] = '1' in valeur\n",
    "    \n",
    "    entrées.append(nouvelle_entrée)"
   ]
  },
  {
   "cell_type": "markdown",
   "metadata": {},
   "source": [
    "Pour faciliter la manipulation des données, on les transforme en cadre Pandas:"
   ]
  },
  {
   "cell_type": "code",
   "execution_count": 23,
   "metadata": {},
   "outputs": [],
   "source": [
    "données = pd.DataFrame(entrées, columns=['Date', 'Temps (min)', 'Description', 'Atelier'])"
   ]
  },
  {
   "cell_type": "code",
   "execution_count": 26,
   "metadata": {},
   "outputs": [
    {
     "name": "stderr",
     "output_type": "stream",
     "text": [
      "<ipython-input-26-7fb553687c3e>:1: FutureWarning: As the xlwt package is no longer maintained, the xlwt engine will be removed in a future version of pandas. This is the only engine in pandas that supports writing in the xls format. Install openpyxl and write to an xlsx file instead. You can set the option io.excel.xls.writer to 'xlwt' to silence this warning. While this option is deprecated and will also raise a warning, it can be globally set and the warning suppressed.\n",
      "  données.to_excel(str(boite_de_dépôt / 'résumé.xls'))\n"
     ]
    }
   ],
   "source": [
    "données.to_excel(str(boite_de_dépôt / 'résumé.xls'))"
   ]
  },
  {
   "cell_type": "code",
   "execution_count": 25,
   "metadata": {},
   "outputs": [
    {
     "name": "stdout",
     "output_type": "stream",
     "text": [
      "Collecting xlwt\n",
      "  Downloading xlwt-1.3.0-py2.py3-none-any.whl (99 kB)\n",
      "\u001b[K     |████████████████████████████████| 99 kB 3.2 MB/s eta 0:00:011\n",
      "\u001b[?25hInstalling collected packages: xlwt\n",
      "Successfully installed xlwt-1.3.0\n",
      "Note: you may need to restart the kernel to use updated packages.\n"
     ]
    }
   ],
   "source": [
    "%pip install xlwt"
   ]
  },
  {
   "cell_type": "markdown",
   "metadata": {},
   "source": [
    "On répète pour les fichiers qui n'étaient pas à la bonne place:"
   ]
  },
  {
   "cell_type": "code",
   "execution_count": 11,
   "metadata": {},
   "outputs": [],
   "source": [
    "entrées = []\n",
    "\n",
    "for chemin in fichiers_incorrectement_déposés:\n",
    "    nouvelle_entrée = [None, 0, '', False]\n",
    "    \n",
    "    with chemin.open() as f:\n",
    "        étampe = Dt.fromtimestamp(chemin.stat().st_birthtime)\n",
    "        nouvelle_entrée[0] = étampe\n",
    "\n",
    "        for ligne in f.readlines():\n",
    "            champ, valeur = ligne.strip().split(':', 1)\n",
    "            if champ.startswith('Temps'):\n",
    "                # Certains fichiers ont le temps en heures, d'autres en minutes\n",
    "                champ = champ.strip(')').split()\n",
    "                if len(champ) > 1:\n",
    "                    unité = champ[1].strip('(')\n",
    "                else:\n",
    "                    unité = 'min'\n",
    "\n",
    "                valeur = float(valeur.replace(',', '.').strip())\n",
    "                if unité == 'h':\n",
    "                    valeur *= 60\n",
    "\n",
    "                nouvelle_entrée[1] = valeur\n",
    "            elif champ.startswith('Tâche'):\n",
    "                valeur = valeur.strip(' \"')\n",
    "                nouvelle_entrée[2] = valeur\n",
    "            elif champ.startswith('Atelier'):\n",
    "                nouvelle_entrée[3] = '1' in valeur\n",
    "    \n",
    "    entrées.append(nouvelle_entrée)\n",
    "\n",
    "données = pd.DataFrame(entrées, columns=['Date', 'Temps (min)', 'Description', 'Atelier'])\n",
    "données.to_excel(str(boite_de_dépôt / 'résumé2.xls'))"
   ]
  },
  {
   "cell_type": "code",
   "execution_count": null,
   "metadata": {},
   "outputs": [],
   "source": []
  }
 ],
 "metadata": {
  "kernelspec": {
   "display_name": "Python 3 (Spyder)",
   "language": "python3",
   "name": "python3"
  },
  "language_info": {
   "codemirror_mode": {
    "name": "ipython",
    "version": 3
   },
   "file_extension": ".py",
   "mimetype": "text/x-python",
   "name": "python",
   "nbconvert_exporter": "python",
   "pygments_lexer": "ipython3",
   "version": "3.9.2"
  }
 },
 "nbformat": 4,
 "nbformat_minor": 4
}
