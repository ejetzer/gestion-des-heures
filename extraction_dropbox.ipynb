{
 "cells": [
  {
   "cell_type": "markdown",
   "metadata": {},
   "source": [
    "# Extraction des heures à partir des fichiers textes dans Dropbox\n",
    "\n",
    "Mon script de suivi des heures entre les nouvelles entrées comme des fichiers textes sur Dropbox. Je veux les synthétiser en un seul tableur, avec les informations pertinentes, pour faciliter l'entrée dans la feuille de temps ensuite."
   ]
  },
  {
   "cell_type": "code",
   "execution_count": 1,
   "metadata": {},
   "outputs": [],
   "source": [
    "import pandas as pd\n",
    "from pathlib import Path"
   ]
  },
  {
   "cell_type": "markdown",
   "metadata": {},
   "source": [
    "Les fichiers sont stockés dans un sous-dossier Dropbox quand tout va bien, et parfois par erreur dans le dossier racine. On pourra s'occuper des fichiers dans le sous-dossier pour commencer."
   ]
  },
  {
   "cell_type": "code",
   "execution_count": 7,
   "metadata": {},
   "outputs": [],
   "source": [
    "racine = Path.home() / 'Dropbox/'\n",
    "boite_de_dépôt = racine / 'Boite de dépôt'\n",
    "\n",
    "fichiers_correctement_déposés = list(boite_de_dépôt.glob('*.txt'))\n",
    "fichiers_incorrectement_déposés = list(racine.glob('*.txt'))"
   ]
  },
  {
   "cell_type": "markdown",
   "metadata": {},
   "source": [
    "Un fichier typique ressemble à ceci:"
   ]
  },
  {
   "cell_type": "code",
   "execution_count": 8,
   "metadata": {},
   "outputs": [
    {
     "name": "stdout",
     "output_type": "stream",
     "text": [
      "Temps (min): 45\n",
      "Tâche: \"Nouveau panneau pour Étienne \"\n",
      "Atelier: 1\n"
     ]
    }
   ],
   "source": [
    "with fichiers_correctement_déposés[0].open() as f:\n",
    "    print(f.read())"
   ]
  },
  {
   "cell_type": "markdown",
   "metadata": {},
   "source": [
    "On peut les lire ligne par ligne pour produire une liste:"
   ]
  },
  {
   "cell_type": "code",
   "execution_count": 16,
   "metadata": {},
   "outputs": [
    {
     "name": "stdout",
     "output_type": "stream",
     "text": [
      "[45.0, 'Nouveau panneau pour Étienne', True]\n"
     ]
    }
   ],
   "source": [
    "with fichiers_correctement_déposés[0].open() as f:\n",
    "    nouvelle_entrée = [0, '', False]\n",
    "    \n",
    "    for ligne in f.readlines():\n",
    "        champ, valeur = ligne.strip().split(':')\n",
    "        if champ.startswith('Temps'):\n",
    "            # Certains fichiers ont le temps en heures, d'autres en minutes\n",
    "            champ = champ.strip(')').split()\n",
    "            if len(champ) > 1:\n",
    "                unité = champ[1].strip('(')\n",
    "            else:\n",
    "                unité = 'min'\n",
    "            \n",
    "            valeur = float(valeur.strip())\n",
    "            if unité == 'h':\n",
    "                valeur *= 60\n",
    "            \n",
    "            nouvelle_entrée[0] = valeur\n",
    "        elif champ.startswith('Tâche'):\n",
    "            valeur = valeur.strip(' \"')\n",
    "            nouvelle_entrée[1] = valeur\n",
    "        elif champ.startswith('Atelier'):\n",
    "            nouvelle_entrée[2] = '1' in valeur\n",
    "\n",
    "print(nouvelle_entrée)"
   ]
  },
  {
   "cell_type": "markdown",
   "metadata": {},
   "source": [
    "On utilise la date & heure de création du fichier (heureusement préservée par Dropbox) pour obtenir le moment d'entrée."
   ]
  },
  {
   "cell_type": "code",
   "execution_count": 13,
   "metadata": {},
   "outputs": [],
   "source": [
    "étampe = fichiers_correctement_déposés[0].stat().st_birthtime"
   ]
  },
  {
   "cell_type": "code",
   "execution_count": 14,
   "metadata": {},
   "outputs": [
    {
     "data": {
      "text/plain": [
       "datetime.datetime(2020, 12, 7, 16, 19, 8)"
      ]
     },
     "execution_count": 14,
     "metadata": {},
     "output_type": "execute_result"
    }
   ],
   "source": [
    "from datetime import datetime as Dt\n",
    "Dt.fromtimestamp(étampe)"
   ]
  },
  {
   "cell_type": "markdown",
   "metadata": {},
   "source": [
    "On peut l'ajouter à la liste:"
   ]
  },
  {
   "cell_type": "code",
   "execution_count": 17,
   "metadata": {},
   "outputs": [
    {
     "name": "stdout",
     "output_type": "stream",
     "text": [
      "[datetime.datetime(2020, 12, 7, 16, 19, 8), 45.0, 'Nouveau panneau pour Étienne', True]\n"
     ]
    }
   ],
   "source": [
    "with fichiers_correctement_déposés[0].open() as f:\n",
    "    nouvelle_entrée = [None, 0, '', False]\n",
    "    \n",
    "    étampe = Dt.fromtimestamp(fichiers_correctement_déposés[0].stat().st_birthtime)\n",
    "    nouvelle_entrée[0] = étampe\n",
    "    \n",
    "    for ligne in f.readlines():\n",
    "        champ, valeur = ligne.strip().split(':')\n",
    "        if champ.startswith('Temps'):\n",
    "            # Certains fichiers ont le temps en heures, d'autres en minutes\n",
    "            champ = champ.strip(')').split()\n",
    "            if len(champ) > 1:\n",
    "                unité = champ[1].strip('(')\n",
    "            else:\n",
    "                unité = 'min'\n",
    "            \n",
    "            valeur = float(valeur.strip())\n",
    "            if unité == 'h':\n",
    "                valeur *= 60\n",
    "            \n",
    "            nouvelle_entrée[1] = valeur\n",
    "        elif champ.startswith('Tâche'):\n",
    "            valeur = valeur.strip(' \"')\n",
    "            nouvelle_entrée[2] = valeur\n",
    "        elif champ.startswith('Atelier'):\n",
    "            nouvelle_entrée[3] = '1' in valeur\n",
    "\n",
    "print(nouvelle_entrée)"
   ]
  },
  {
   "cell_type": "markdown",
   "metadata": {},
   "source": [
    "Pour que ce soit vraiment utile, il faut passer à travers toute la liste de fichiers, et garder chaque entrée dans une liste."
   ]
  },
  {
   "cell_type": "code",
   "execution_count": 23,
   "metadata": {
    "scrolled": false
   },
   "outputs": [],
   "source": [
    "entrées = []\n",
    "\n",
    "for chemin in fichiers_correctement_déposés:\n",
    "    nouvelle_entrée = [None, 0, '', False]\n",
    "    \n",
    "    with chemin.open() as f:\n",
    "        étampe = Dt.fromtimestamp(chemin.stat().st_birthtime)\n",
    "        nouvelle_entrée[0] = étampe\n",
    "\n",
    "        for ligne in f.readlines():\n",
    "            champ, valeur = ligne.strip().split(':', 1)\n",
    "            if champ.startswith('Temps'):\n",
    "                # Certains fichiers ont le temps en heures, d'autres en minutes\n",
    "                champ = champ.strip(')').split()\n",
    "                if len(champ) > 1:\n",
    "                    unité = champ[1].strip('(')\n",
    "                else:\n",
    "                    unité = 'min'\n",
    "\n",
    "                valeur = float(valeur.replace(',', '.').strip())\n",
    "                if unité == 'h':\n",
    "                    valeur *= 60\n",
    "\n",
    "                nouvelle_entrée[1] = valeur\n",
    "            elif champ.startswith('Tâche'):\n",
    "                valeur = valeur.strip(' \"')\n",
    "                nouvelle_entrée[2] = valeur\n",
    "            elif champ.startswith('Atelier'):\n",
    "                nouvelle_entrée[3] = '1' in valeur\n",
    "    \n",
    "    entrées.append(nouvelle_entrée)"
   ]
  },
  {
   "cell_type": "markdown",
   "metadata": {},
   "source": [
    "Pour faciliter la manipulation des données, on les transforme en cadre Pandas:"
   ]
  },
  {
   "cell_type": "code",
   "execution_count": 27,
   "metadata": {},
   "outputs": [],
   "source": [
    "données = pd.DataFrame(entrées, columns=['Date', 'Temps (min)', 'Description', 'Atelier'])"
   ]
  },
  {
   "cell_type": "code",
   "execution_count": 28,
   "metadata": {},
   "outputs": [],
   "source": [
    "données.to_excel(str(boite_de_dépôt / 'résumé.xls'))"
   ]
  },
  {
   "cell_type": "markdown",
   "metadata": {},
   "source": [
    "On répète pour les fichiers qui n'étaient pas à la bonne place:"
   ]
  },
  {
   "cell_type": "code",
   "execution_count": 30,
   "metadata": {},
   "outputs": [],
   "source": [
    "entrées = []\n",
    "\n",
    "for chemin in fichiers_incorrectement_déposés:\n",
    "    nouvelle_entrée = [None, 0, '', False]\n",
    "    \n",
    "    with chemin.open() as f:\n",
    "        étampe = Dt.fromtimestamp(chemin.stat().st_birthtime)\n",
    "        nouvelle_entrée[0] = étampe\n",
    "\n",
    "        for ligne in f.readlines():\n",
    "            champ, valeur = ligne.strip().split(':', 1)\n",
    "            if champ.startswith('Temps'):\n",
    "                # Certains fichiers ont le temps en heures, d'autres en minutes\n",
    "                champ = champ.strip(')').split()\n",
    "                if len(champ) > 1:\n",
    "                    unité = champ[1].strip('(')\n",
    "                else:\n",
    "                    unité = 'min'\n",
    "\n",
    "                valeur = float(valeur.replace(',', '.').strip())\n",
    "                if unité == 'h':\n",
    "                    valeur *= 60\n",
    "\n",
    "                nouvelle_entrée[1] = valeur\n",
    "            elif champ.startswith('Tâche'):\n",
    "                valeur = valeur.strip(' \"')\n",
    "                nouvelle_entrée[2] = valeur\n",
    "            elif champ.startswith('Atelier'):\n",
    "                nouvelle_entrée[3] = '1' in valeur\n",
    "    \n",
    "    entrées.append(nouvelle_entrée)\n",
    "\n",
    "données = pd.DataFrame(entrées, columns=['Date', 'Temps (min)', 'Description', 'Atelier'])\n",
    "données.to_excel(str(boite_de_dépôt / 'résumé2.xls'))"
   ]
  },
  {
   "cell_type": "code",
   "execution_count": null,
   "metadata": {},
   "outputs": [],
   "source": []
  }
 ],
 "metadata": {
  "kernelspec": {
   "display_name": "Python 3",
   "language": "python",
   "name": "python3"
  },
  "language_info": {
   "codemirror_mode": {
    "name": "ipython",
    "version": 3
   },
   "file_extension": ".py",
   "mimetype": "text/x-python",
   "name": "python",
   "nbconvert_exporter": "python",
   "pygments_lexer": "ipython3",
   "version": "3.8.3"
  }
 },
 "nbformat": 4,
 "nbformat_minor": 4
}
